{
 "cells": [
  {
   "cell_type": "markdown",
   "metadata": {},
   "source": [
    "# Shopping Mall analysis of Warsaw, Poland"
   ]
  },
  {
   "cell_type": "markdown",
   "metadata": {},
   "source": [
    "Coursera Capstone- Week 4, Part 1"
   ]
  },
  {
   "cell_type": "markdown",
   "metadata": {},
   "source": [
    "# Introduction"
   ]
  },
  {
   "cell_type": "markdown",
   "metadata": {},
   "source": [
    "#### Business Problem"
   ]
  },
  {
   "cell_type": "markdown",
   "metadata": {},
   "source": [
    "Our client is a commercial real-estate developer who is impressed by the growing potential of Warsaw as an attraction for retail trade. With the ambition to take advantage of this wave, our client is looking to open/acquire a shopping mall in Warsaw. In order to understand the commercial real-estate market better, the client has approached us to answer the following key questions:\n",
    "\n",
    "- What is the current landscape of the shopping centers/retail parks/high streets in the city of Warsaw currently?\n",
    "    - What is the typical size?\n",
    "    - Are they relatively modern construction or older?\n",
    "    - What is their distribution in terms of their location (city-center, office district, residential district, suburbs etc.)\n",
    "- How are malls that are situated in city center different from those situated in residential districts in terms of size and store formats?\n",
    "- Given, the client is looking to open/acquire a large shopping mall (60000 sq.m) near city center, what should be the typical stores in the mall based on current environment"
   ]
  },
  {
   "cell_type": "markdown",
   "metadata": {},
   "source": [
    "#### Data"
   ]
  },
  {
   "cell_type": "markdown",
   "metadata": {},
   "source": [
    "For the given analyses, we will use the dataset of shopping malls/high streets/retail parks available on https://prch.org.pl/en/sc-catalog. The dataset was creating by scraping the contents of the given url. The shopping mall dataset contains the following fields:\n",
    "- Name of the mall\n",
    "- Address \n",
    "- Type of mall (traditional/Speciality/retail-park/high-street/mixed-use)\n",
    "- GLA (Gross Leasing Area in sq.m) \n",
    "- Status (Open, In Construction, Closed, Planned)\n",
    "- Opening year\n",
    "\n",
    "In addition we will be using the location data from Foursquare API in order to analyze the venues around the location of a particular shopping mall. With the radius of 250 m, we can assume that the venues provided by Foursquare- search query are related to the venues within and around the mall. This will help us in understanding the prevailing store formats of the given shopping mall."
   ]
  }
 ],
 "metadata": {
  "kernelspec": {
   "display_name": "Python",
   "language": "python",
   "name": "conda-env-python-py"
  },
  "language_info": {
   "codemirror_mode": {
    "name": "ipython",
    "version": 3
   },
   "file_extension": ".py",
   "mimetype": "text/x-python",
   "name": "python",
   "nbconvert_exporter": "python",
   "pygments_lexer": "ipython3",
   "version": "3.6.7"
  }
 },
 "nbformat": 4,
 "nbformat_minor": 4
}
